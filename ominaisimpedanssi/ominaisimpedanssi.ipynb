{
 "cells": [
  {
   "cell_type": "code",
   "execution_count": 3,
   "metadata": {},
   "outputs": [
    {
     "name": "stdout",
     "output_type": "stream",
     "text": [
      "Eeff=0.00\n",
      "tyhjiön impedanssi:\n",
      " z0=377\n",
      "\n",
      "\n",
      "w/h is lesser than one, use formula one\n",
      "Z=74.056752\n",
      "q=0.26919095102908275, Q2=0, total = 0.26919095102908275\n"
     ]
    }
   ],
   "source": [
    "import math\n",
    "import sys\n",
    "\n",
    "# Giving variables for the wire impedance calculation\n",
    "\n",
    "#Copper width : minimum on Layer 1.6 mm HASL is 0.2um\n",
    "# when w/h <= 1\n",
    "# Z = Z0/(2*math.pi * math.sqrt(Eeff)) * math.log(8*(h/w) + w/(4*h)\n",
    "\n",
    "# when w/h >= 1\n",
    "# Z=z0 / ((math.sqrt(Eeff)* (w/h+1.393 + 0.667 * math.log(w/h+1.444))))\n",
    "#print(sys.modules.get(\"math\"))\n",
    "\n",
    "#Copper length and width\n",
    "# The width of copper in millimeters\n",
    "w = 1.5\n",
    "# The length of copper in millimeters\n",
    "l = 10     \n",
    "\n",
    "# Known values\n",
    "z0 = 377    # impedance in vacuum\n",
    "h = 1.6     # height of the board FR4 board has Er = 4.3\n",
    "Er = 4.3    # Eeff = (Er + 1) /2 + (Er - 1) /2 * q\n",
    "T = 0.035   # Thickness of the copper on a side.\n",
    "Eeff = 0\n",
    "\n",
    "\n",
    "print(f\"{Eeff=:.2f}\")\n",
    "print(f\"tyhjiön impedanssi:\\n {z0=}\\n\\n\")\n",
    "\n",
    "if((w/h) < 1):\n",
    "    print(\"w/h is lesser than one, use formula one\")\n",
    "    Q2 = 0\n",
    "    q = 1/ math.sqrt((1+12*(h/w)))\n",
    "    Eeff = (Er + 1) /2 + ((Er - 1) /2) * q\n",
    "    Z = z0/(2*math.pi * math.sqrt(Eeff)) * math.log(8*(h/w) + w/(4*h))\n",
    "    print(f\"{Z=:2f}\")\n",
    "else:\n",
    "    print(\"w/h is greater than one\")\n",
    "    Q2 = 0.04 * (1 - w/h) ** 2\n",
    "    q = (1/ math.sqrt((1+12*(h/w)))) + Q2\n",
    "    Eeff = (Er + 1) /2 + ((Er - 1) /2) * q\n",
    "    Z=z0 / ((math.sqrt(Eeff)* ((w/h) + 1.393 + 0.667 * math.log((w/h)+1.444))))\n",
    "    print(f\"{Z=:.2f}\")\n",
    "\n",
    "print(f\"{q=}, {Q2=}, total = {q+Q2}\")"
   ]
  }
 ],
 "metadata": {
  "kernelspec": {
   "display_name": ".env",
   "language": "python",
   "name": "python3"
  },
  "language_info": {
   "codemirror_mode": {
    "name": "ipython",
    "version": 3
   },
   "file_extension": ".py",
   "mimetype": "text/x-python",
   "name": "python",
   "nbconvert_exporter": "python",
   "pygments_lexer": "ipython3",
   "version": "3.12.9"
  }
 },
 "nbformat": 4,
 "nbformat_minor": 2
}
